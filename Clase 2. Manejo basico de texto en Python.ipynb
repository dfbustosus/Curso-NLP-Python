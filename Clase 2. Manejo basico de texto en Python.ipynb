{
 "cells": [
  {
   "cell_type": "markdown",
   "id": "61a276a8",
   "metadata": {},
   "source": [
    "# Tipos de strings"
   ]
  },
  {
   "cell_type": "code",
   "execution_count": 12,
   "id": "024d368e",
   "metadata": {},
   "outputs": [
    {
     "name": "stdout",
     "output_type": "stream",
     "text": [
      "Hello <class 'str'>\n",
      "Hello 'soy un string largo <class 'str'>\n",
      "\t \n",
      " <class 'str'>\n",
      "b'hola' <class 'bytes'>\n",
      "Hola <class 'str'>\n",
      "Hèllo Hèllo <class 'str'> <class 'str'>\n"
     ]
    }
   ],
   "source": [
    "#Short strings\n",
    "a= 'Hello';print(a,type(a))\n",
    "# Long String\n",
    "b= '''Hello \\'soy un string largo''';print(b,type(b))\n",
    "# Secuencias escape\n",
    "c='\\t \\n';print(c,type(c))\n",
    "# Bytes (bytestrings)\n",
    "d= bytes('hola','utf-8');print(d,type(d))\n",
    "# Raw Strings creados para regular expressions\n",
    "e= r'Hola';print(e,type(e))\n",
    "# Unicode son usalmente secuencias no ASCII \n",
    "f='H\\u00e8llo'\n",
    "g= 'H\\xe8llo'\n",
    "print(f,g,type(f),type(g))"
   ]
  },
  {
   "cell_type": "code",
   "execution_count": 14,
   "id": "2f863740",
   "metadata": {},
   "outputs": [
    {
     "name": "stdout",
     "output_type": "stream",
     "text": [
      "HolaSoy David\n"
     ]
    },
    {
     "data": {
      "text/plain": [
       "'C:\\\\the_folder\\\\new_dir\\\\file.txt'"
      ]
     },
     "execution_count": 14,
     "metadata": {},
     "output_type": "execute_result"
    }
   ],
   "source": [
    "# Concatenacion de strings\n",
    "var= 'Hola' + 'Soy David'\n",
    "print(var)\n",
    "raw= r'C:\\the_folder\\new_dir\\file.txt'\n",
    "raw"
   ]
  },
  {
   "cell_type": "markdown",
   "id": "617f80ae",
   "metadata": {},
   "source": [
    "# Operaciones basicas"
   ]
  },
  {
   "cell_type": "code",
   "execution_count": 26,
   "id": "88110b09",
   "metadata": {},
   "outputs": [
    {
     "name": "stdout",
     "output_type": "stream",
     "text": [
      "Hola y bienvenido a Python\n",
      "Hola y bienvenido a Python\n",
      "Hola y bienvenido a Python\n",
      "Hola soy david\n",
      "---David------David------David---\n",
      "Hola---David---Hola---David---Hola---David---\n",
      "Estoes otra formade concatenar distintos strings\n"
     ]
    }
   ],
   "source": [
    "# Diferentes formas de concatenacion\n",
    "print('Hola '+ 'y bienvenido' + ' a Python')\n",
    "print('Hola y bienvenido a Python')\n",
    "print('Hola'+ ' y bienvenido ' + 'a Python')\n",
    "# Concatenacion con variables\n",
    "s1='Hola'\n",
    "print(s1 + ' soy david')\n",
    "s2= '---David---'\n",
    "print(s2*3)\n",
    "print((s1+s2)*3)\n",
    "# Otra forma de concatenar strings\n",
    "s3=('Esto' 'es otra forma' 'de concatenar ' 'distintos strings')\n",
    "print(s3)"
   ]
  },
  {
   "cell_type": "code",
   "execution_count": 28,
   "id": "c6d51667",
   "metadata": {},
   "outputs": [
    {
     "data": {
      "text/plain": [
       "True"
      ]
     },
     "execution_count": 28,
     "metadata": {},
     "output_type": "execute_result"
    }
   ],
   "source": [
    "# Verificar si hay subtrings en otro\n",
    "'dav' in 'david'"
   ]
  },
  {
   "cell_type": "code",
   "execution_count": 32,
   "id": "c8a83d54",
   "metadata": {},
   "outputs": [
    {
     "name": "stdout",
     "output_type": "stream",
     "text": [
      "False\n"
     ]
    },
    {
     "data": {
      "text/plain": [
       "48"
      ]
     },
     "execution_count": 32,
     "metadata": {},
     "output_type": "execute_result"
    }
   ],
   "source": [
    "print('python' in s3)\n",
    "len(s3)"
   ]
  },
  {
   "attachments": {
    "Python-String-Slicing-Illustration.png": {
     "image/png": "[encoded data removed]"
    }
   },
   "cell_type": "markdown",
   "id": "2b387147",
   "metadata": {},
   "source": [
    "# Indexamiento y slicing\n",
    "![Python-String-Slicing-Illustration.png](attachment:Python-String-Slicing-Illustration.png)"
   ]
  },
  {
   "cell_type": "code",
   "execution_count": 34,
   "id": "4a98892d",
   "metadata": {},
   "outputs": [
    {
     "name": "stdout",
     "output_type": "stream",
     "text": [
      "Caracter D: tiene indice; 0\n",
      "Caracter a: tiene indice; 1\n",
      "Caracter v: tiene indice; 2\n",
      "Caracter i: tiene indice; 3\n",
      "Caracter d: tiene indice; 4\n"
     ]
    }
   ],
   "source": [
    "s='David'\n",
    "# Detectando cada caracter \n",
    "for index, character in enumerate(s):\n",
    "    print('Caracter', character + ':', 'tiene indice;', index)"
   ]
  },
  {
   "cell_type": "code",
   "execution_count": 36,
   "id": "705491ce",
   "metadata": {},
   "outputs": [
    {
     "data": {
      "text/plain": [
       "('D', 'a', 'v', 'i', 'd')"
      ]
     },
     "execution_count": 36,
     "metadata": {},
     "output_type": "execute_result"
    }
   ],
   "source": [
    "# Indexamiento\n",
    "s[0],s[1],s[2],s[3],s[4]"
   ]
  },
  {
   "cell_type": "code",
   "execution_count": 37,
   "id": "383058da",
   "metadata": {},
   "outputs": [
    {
     "data": {
      "text/plain": [
       "('d', 'i', 'v', 'a', 'D')"
      ]
     },
     "execution_count": 37,
     "metadata": {},
     "output_type": "execute_result"
    }
   ],
   "source": [
    "s[-1],s[-2],s[-3],s[-4],s[-5]"
   ]
  },
  {
   "cell_type": "code",
   "execution_count": 42,
   "id": "cb628952",
   "metadata": {},
   "outputs": [
    {
     "name": "stdout",
     "output_type": "stream",
     "text": [
      "David\n",
      "avi\n",
      "Dav\n",
      "id\n",
      "vid\n",
      "David\n",
      "Dvd\n"
     ]
    }
   ],
   "source": [
    "# Slicing\n",
    "print(s[:])\n",
    "print(s[1:4])\n",
    "print(s[:3])\n",
    "print(s[3:])\n",
    "print(s[-3:])\n",
    "print(s[:3]+s[3:])\n",
    "print(s[::2])"
   ]
  },
  {
   "cell_type": "code",
   "execution_count": 43,
   "id": "57cc9764",
   "metadata": {},
   "outputs": [
    {
     "ename": "TypeError",
     "evalue": "'str' object does not support item assignment",
     "output_type": "error",
     "traceback": [
      "\u001b[1;31m---------------------------------------------------------------------------\u001b[0m",
      "\u001b[1;31mTypeError\u001b[0m                                 Traceback (most recent call last)",
      "Input \u001b[1;32mIn [43]\u001b[0m, in \u001b[0;36m<cell line: 1>\u001b[1;34m()\u001b[0m\n\u001b[1;32m----> 1\u001b[0m s[\u001b[38;5;241m0\u001b[39m]\u001b[38;5;241m=\u001b[39m\u001b[38;5;124m'\u001b[39m\u001b[38;5;124mX\u001b[39m\u001b[38;5;124m'\u001b[39m\n",
      "\u001b[1;31mTypeError\u001b[0m: 'str' object does not support item assignment"
     ]
    }
   ],
   "source": [
    "s[0]='X' # No se puede porque los strings son inmutables"
   ]
  },
  {
   "cell_type": "code",
   "execution_count": 44,
   "id": "907f98b4",
   "metadata": {},
   "outputs": [
    {
     "data": {
      "text/plain": [
       "'Xavid'"
      ]
     },
     "execution_count": 44,
     "metadata": {},
     "output_type": "execute_result"
    }
   ],
   "source": [
    "# Pero si puedes hacer esto\n",
    "'X'+ s[1:]"
   ]
  },
  {
   "cell_type": "markdown",
   "id": "3fa0a426",
   "metadata": {},
   "source": [
    "# Metodos"
   ]
  },
  {
   "cell_type": "code",
   "execution_count": 48,
   "id": "263b43ee",
   "metadata": {},
   "outputs": [
    {
     "name": "stdout",
     "output_type": "stream",
     "text": [
      "Python es genial\n",
      "PYTHON ES GENIAL\n"
     ]
    }
   ],
   "source": [
    "s='python es genial'\n",
    "print(s.capitalize())\n",
    "print(s.upper())"
   ]
  },
  {
   "cell_type": "code",
   "execution_count": 49,
   "id": "dd36503c",
   "metadata": {},
   "outputs": [
    {
     "data": {
      "text/plain": [
       "'analitica es genial'"
      ]
     },
     "execution_count": 49,
     "metadata": {},
     "output_type": "execute_result"
    }
   ],
   "source": [
    "# Reemplazo\n",
    "s.replace('python','analitica')"
   ]
  },
  {
   "cell_type": "code",
   "execution_count": 51,
   "id": "b7ccab4e",
   "metadata": {},
   "outputs": [
    {
     "data": {
      "text/plain": [
       "['Hola soy david', ' me gusta el NLP']"
      ]
     },
     "execution_count": 51,
     "metadata": {},
     "output_type": "execute_result"
    }
   ],
   "source": [
    "# split y join\n",
    "s='Hola soy david, me gusta el NLP'\n",
    "s.split(',')"
   ]
  },
  {
   "cell_type": "code",
   "execution_count": 52,
   "id": "857a8fa8",
   "metadata": {},
   "outputs": [
    {
     "data": {
      "text/plain": [
       "'Hola soy david me gusta el NLP'"
      ]
     },
     "execution_count": 52,
     "metadata": {},
     "output_type": "execute_result"
    }
   ],
   "source": [
    "''.join(s.split(','))"
   ]
  },
  {
   "cell_type": "code",
   "execution_count": 54,
   "id": "8e364ecc",
   "metadata": {},
   "outputs": [
    {
     "data": {
      "text/plain": [
       "'Hola estoy rodeado por espacio blancos'"
      ]
     },
     "execution_count": 54,
     "metadata": {},
     "output_type": "execute_result"
    }
   ],
   "source": [
    "# Strip el espacio en blanco\n",
    "s='           Hola estoy rodeado por espacio blancos'\n",
    "s.strip()"
   ]
  },
  {
   "cell_type": "code",
   "execution_count": 55,
   "id": "cac3d059",
   "metadata": {},
   "outputs": [
    {
     "data": {
      "text/plain": [
       "'           Hola Estoy Rodeado Por Espacio Blancos'"
      ]
     },
     "execution_count": 55,
     "metadata": {},
     "output_type": "execute_result"
    }
   ],
   "source": [
    "s.title()"
   ]
  },
  {
   "cell_type": "markdown",
   "id": "869acea6",
   "metadata": {},
   "source": [
    "# Formateo"
   ]
  },
  {
   "cell_type": "code",
   "execution_count": 56,
   "id": "6f02775a",
   "metadata": {},
   "outputs": [
    {
     "data": {
      "text/plain": [
       "'Hola David'"
      ]
     },
     "execution_count": 56,
     "metadata": {},
     "output_type": "execute_result"
    }
   ],
   "source": [
    "# Formateo de expresiones\n",
    "'Hola %s' %('David')"
   ]
  },
  {
   "cell_type": "code",
   "execution_count": 58,
   "id": "0c9b0e88",
   "metadata": {},
   "outputs": [
    {
     "data": {
      "text/plain": [
       "'Hola 2 David tenemos 4.37 galones de sopa'"
      ]
     },
     "execution_count": 58,
     "metadata": {},
     "output_type": "execute_result"
    }
   ],
   "source": [
    "# formateando expresiones con distintos tipos de datos\n",
    "'Hola %d %s tenemos %.2f galones de %s' %(2,'David', 4.37,'sopa')"
   ]
  },
  {
   "cell_type": "code",
   "execution_count": 59,
   "id": "b5189c26",
   "metadata": {},
   "outputs": [
    {
     "data": {
      "text/plain": [
       "'Hola Mr David esto es un placer conocerte'"
      ]
     },
     "execution_count": 59,
     "metadata": {},
     "output_type": "execute_result"
    }
   ],
   "source": [
    "# Formateo usando otro metodo\n",
    "'Hola {} {} esto es un {} conocerte'.format('Mr','David','placer')"
   ]
  },
  {
   "cell_type": "code",
   "execution_count": 61,
   "id": "1a86975d",
   "metadata": {},
   "outputs": [
    {
     "data": {
      "text/plain": [
       "'Yo tengo un hot dog y una coca conmigo'"
      ]
     },
     "execution_count": 61,
     "metadata": {},
     "output_type": "execute_result"
    }
   ],
   "source": [
    "# Metodos alternos de formateo\n",
    "'Yo tengo un {item} y una {bebida} conmigo'.format(bebida='coca', item='hot dog')"
   ]
  },
  {
   "cell_type": "markdown",
   "id": "fd912b8c",
   "metadata": {},
   "source": [
    "# Regular expressions\n",
    "\n",
    "Las expresiones regulares, también denominadas expresiones regulares, te permiten crear patrones de cadena y utilizarlos para buscar y sustituir coincidencias de patrones específicos en datos textuales. Python ofrece un módulo enriquecido llamado re para crear y usar expresiones regulares. Se han escrito libros enteros sobre este tema porque es fácil de usar pero difícil de dominar. Discutir cada aspecto de las expresiones regulares no sería.\n",
    "\n",
    "Las expresiones mas populares son:\n",
    "1. . para encontrar caracteres especificos\n",
    "2. ^ para encontrar al inicio dle stirng \n",
    "3. \\$ para matching al final del string\n",
    "4. * para hacer coincidir cero o más casos de la expresión regular mencionada anteriormente antes del símbolo * en el patrón\n",
    "5. ? para hacer coincidir cero o un caso de la expresión regular mencionada anteriormente antes de ? símbolo en el patrón\n",
    "6. [...] para hacer coincidir cualquiera de los conjuntos de caracteres dentro de los\n",
    "corchetes\n",
    "7. [^...] para hacer coincidir un carácter que no está presente en los corchetes después del símbolo ^\n",
    "8. | denota el operador OR para hacer coincidir la expresión regular anterior o la siguiente\n",
    "9. \\+ para hacer coincidir uno o más casos de la expresión regular mencionada anteriormente antes del símbolo + en el patrón\n",
    "10. \\d para hacer coincidir dígitos decimales que también se representa como [0-9]\n",
    "11. \\D para hacer coincidir no dígitos, también representado como [^0-9]\n",
    "12. \\s para hacer coincidir espacios en blanco\n",
    "13. \\S para hacer coincidir NO espacios en blanco\n",
    "14. \\w para la coincidencia de caracteres alfanuméricos también representados como [a-zA-Z0-9_]\n",
    "15. \\W para hacer coincidir caracteres no alfanuméricos también representados como [^a-zA-Z0-9_]\n",
    "\n",
    "Las expresiones regulares se pueden compilar en objetos de patrón y luego usarse con una variedad de métodos para la búsqueda de patrones y la sustitución en cadenas. Los principales métodos que ofrece el módulo re para realizar estas operaciones son los siguientes:\n",
    "\n",
    "- re.compile() : este método compila un patrón de expresión regular especificado en un objeto de expresión regular que se puede usar para hacer coincidir y buscar. Toma un patrón y banderas opcionales como entrada, discutido anteriormente.\n",
    "- re.match() : este método se utiliza para hacer coincidir patrones al principio de las cadenas.\n",
    "- re.search() : este método se usa para hacer coincidir patrones que ocurren en cualquier posición de la cadena.\n",
    "- re.findall() : este método devuelve todas las coincidencias que no se superponen del patrón de expresión regular especificado en la cadena.\n",
    "- re.finditer() : este método devuelve todas las instancias coincidentes en forma de un iterador para un patrón específico en una cadena cuando se escanea de izquierda a derecha.\n",
    "- re.sub() : este método se utiliza para sustituir un patrón de expresión regular especificado en una cadena con una cadena de reemplazo. Solo sustituye la aparición más a la izquierda del patrón en la cadena.\n",
    "\n"
   ]
  },
  {
   "cell_type": "code",
   "execution_count": 63,
   "id": "4b564e23",
   "metadata": {},
   "outputs": [
    {
     "data": {
      "text/plain": [
       "'Hèllo'"
      ]
     },
     "execution_count": 63,
     "metadata": {},
     "output_type": "execute_result"
    }
   ],
   "source": [
    "import re\n",
    "s=u'H\\u00e8llo'\n",
    "s"
   ]
  },
  {
   "cell_type": "code",
   "execution_count": 64,
   "id": "db728e9f",
   "metadata": {},
   "outputs": [
    {
     "data": {
      "text/plain": [
       "['Hèllo']"
      ]
     },
     "execution_count": 64,
     "metadata": {},
     "output_type": "execute_result"
    }
   ],
   "source": [
    "# no devuelve el carácter unicode especial aunque sea alfanumérico\n",
    "re.findall(r'\\w+', s)"
   ]
  },
  {
   "cell_type": "code",
   "execution_count": 69,
   "id": "3f910c56",
   "metadata": {},
   "outputs": [],
   "source": [
    "pattern = 'python'\n",
    "s1 = 'Python es un lenguaje excelent'\n",
    "s2=' Me encanta Python como lenguaje'\n",
    "re.match(pattern,s1)"
   ]
  },
  {
   "cell_type": "code",
   "execution_count": 70,
   "id": "2e18c7d9",
   "metadata": {},
   "outputs": [
    {
     "data": {
      "text/plain": [
       "<re.Match object; span=(0, 6), match='Python'>"
      ]
     },
     "execution_count": 70,
     "metadata": {},
     "output_type": "execute_result"
    }
   ],
   "source": [
    "re.match(pattern, s1, flags=re.IGNORECASE)"
   ]
  },
  {
   "cell_type": "code",
   "execution_count": 75,
   "id": "d1fd7374",
   "metadata": {},
   "outputs": [
    {
     "data": {
      "text/plain": [
       "('Python', 0, 6)"
      ]
     },
     "execution_count": 75,
     "metadata": {},
     "output_type": "execute_result"
    }
   ],
   "source": [
    "# Extraer match y los indices\n",
    "m = re.match(pattern, s1, flags=re.IGNORECASE)\n",
    "m.group(0),m.start(),m.end()"
   ]
  },
  {
   "cell_type": "code",
   "execution_count": 77,
   "id": "1859d6c3",
   "metadata": {},
   "outputs": [],
   "source": [
    "# Encontrar cualquier string que no este al inicio de s2\n",
    "re.match(pattern,s2, re.IGNORECASE)"
   ]
  },
  {
   "cell_type": "code",
   "execution_count": 78,
   "id": "253f467c",
   "metadata": {},
   "outputs": [
    {
     "data": {
      "text/plain": [
       "['Python']"
      ]
     },
     "execution_count": 78,
     "metadata": {},
     "output_type": "execute_result"
    }
   ],
   "source": [
    "re.findall(pattern, s2, re.IGNORECASE)"
   ]
  },
  {
   "cell_type": "code",
   "execution_count": 79,
   "id": "e0e76af4",
   "metadata": {},
   "outputs": [
    {
     "data": {
      "text/plain": [
       "' Me encanta Java como lenguaje'"
      ]
     },
     "execution_count": 79,
     "metadata": {},
     "output_type": "execute_result"
    }
   ],
   "source": [
    "re.sub(pattern, 'Java', s2, flags=re.IGNORECASE)"
   ]
  },
  {
   "cell_type": "code",
   "execution_count": 80,
   "id": "2b4d3554",
   "metadata": {},
   "outputs": [
    {
     "data": {
      "text/plain": [
       "(' Me encanta Java como lenguaje', 1)"
      ]
     },
     "execution_count": 80,
     "metadata": {},
     "output_type": "execute_result"
    }
   ],
   "source": [
    "re.subn(pattern, 'Java', s2, flags=re.IGNORECASE)"
   ]
  },
  {
   "cell_type": "markdown",
   "id": "b0b70b88",
   "metadata": {},
   "source": [
    "# Algunas librerias importantes\n",
    "\n",
    "- **NLTK:** The Natural Language Toolkit es una plataforma completa que contiene más de 50 corpus y recursos léxicos. También proporciona las herramientas, interfaces y métodos necesarios para procesar y analizar datos de texto.\n",
    "-  **pattern:** El proyecto pattern comenzó como un proyecto de investigación en el centro de investigación de Lingüística Computacional y Psicolingüística de la Universidad de Amberes. Proporciona herramientas e interfaces para minería web, recuperación de información, NLP, aprendizaje automático y análisis de redes. El módulo pattern.en contiene la mayoría de las utilidades para análisis de texto.\n",
    "- **gensim:** la biblioteca gensim tiene un amplio conjunto de capacidades para el análisis semántico, incluido el modelado de temas y el análisis de similitud. Pero la mejor parte es que contiene un puerto de Python del modelo word2vec muy popular de Google (originalmente disponible como un paquete C), un modelo de red neuronal implementado para aprender representaciones distribuidas de palabras donde palabras similares (semánticas) ocurren cerca unas de otras.\n",
    "- **textblob:** esta es otra biblioteca que proporciona varias capacidades, incluido el procesamiento de texto, la extracción de frases, la clasificación, el etiquetado de POS, la traducción de texto y el análisis de opiniones.\n",
    "- **spacy:** esta es una de las bibliotecas más nuevas, que pretende proporcionar capacidades de NLP de potencia industrial al proporcionar la mejor implementación de cada técnica y algoritmo, haciendo que las tareas de NLP sean eficientes en términos de rendimiento e implementación."
   ]
  }
 ],
 "metadata": {
  "kernelspec": {
   "display_name": "Python 3 (ipykernel)",
   "language": "python",
   "name": "python3"
  },
  "language_info": {
   "codemirror_mode": {
    "name": "ipython",
    "version": 3
   },
   "file_extension": ".py",
   "mimetype": "text/x-python",
   "name": "python",
   "nbconvert_exporter": "python",
   "pygments_lexer": "ipython3",
   "version": "3.9.12"
  }
 },
 "nbformat": 4,
 "nbformat_minor": 5
}
